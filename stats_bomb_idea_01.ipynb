{
  "nbformat": 4,
  "nbformat_minor": 0,
  "metadata": {
    "colab": {
      "provenance": [],
      "authorship_tag": "ABX9TyMEHHtJRjm/kM5LHhIyQgvm",
      "include_colab_link": true
    },
    "kernelspec": {
      "name": "python3",
      "display_name": "Python 3"
    },
    "language_info": {
      "name": "python"
    }
  },
  "cells": [
    {
      "cell_type": "markdown",
      "metadata": {
        "id": "view-in-github",
        "colab_type": "text"
      },
      "source": [
        "<a href=\"https://colab.research.google.com/github/darren-armstrong/stats_bomb_scripts/blob/main/stats_bomb_idea_01.ipynb\" target=\"_parent\"><img src=\"https://colab.research.google.com/assets/colab-badge.svg\" alt=\"Open In Colab\"/></a>"
      ]
    },
    {
      "cell_type": "code",
      "execution_count": 1,
      "metadata": {
        "id": "n3Ozg_z6AZ6A"
      },
      "outputs": [],
      "source": [
        "from google.colab import drive\n",
        "\n",
        "import numpy as np\n",
        "import pandas as pd"
      ]
    },
    {
      "cell_type": "markdown",
      "source": [
        "Mount to stats_bomb location where this will be stored"
      ],
      "metadata": {
        "id": "CgUtT10SB2SH"
      }
    },
    {
      "cell_type": "code",
      "source": [
        "drive.mount('/gdrive')\n",
        "%cd /gdrive/My\\ Drive/stats_bomb"
      ],
      "metadata": {
        "colab": {
          "base_uri": "https://localhost:8080/"
        },
        "id": "STSML5YWAvzT",
        "outputId": "a64e9d14-cc33-45b2-b397-d1c917eddd40"
      },
      "execution_count": 6,
      "outputs": [
        {
          "output_type": "stream",
          "name": "stdout",
          "text": [
            "/gdrive/My Drive\n",
            "/stats_bomb\n"
          ]
        }
      ]
    },
    {
      "cell_type": "markdown",
      "source": [
        "git clone the stats bomb open data git repo"
      ],
      "metadata": {
        "id": "bSjniz7-Bw3_"
      }
    },
    {
      "cell_type": "code",
      "source": [],
      "metadata": {
        "id": "Cwt8Rb1SDJiN"
      },
      "execution_count": null,
      "outputs": []
    }
  ]
}