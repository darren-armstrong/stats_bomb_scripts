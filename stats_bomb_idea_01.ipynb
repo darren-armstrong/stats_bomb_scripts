{
  "nbformat": 4,
  "nbformat_minor": 0,
  "metadata": {
    "colab": {
      "provenance": [],
      "authorship_tag": "ABX9TyM5ThpyRjEEEF7bsNVk08FA",
      "include_colab_link": true
    },
    "kernelspec": {
      "name": "python3",
      "display_name": "Python 3"
    },
    "language_info": {
      "name": "python"
    }
  },
  "cells": [
    {
      "cell_type": "markdown",
      "metadata": {
        "id": "view-in-github",
        "colab_type": "text"
      },
      "source": [
        "<a href=\"https://colab.research.google.com/github/darren-armstrong/stats_bomb_scripts/blob/main/stats_bomb_idea_01.ipynb\" target=\"_parent\"><img src=\"https://colab.research.google.com/assets/colab-badge.svg\" alt=\"Open In Colab\"/></a>"
      ]
    },
    {
      "cell_type": "code",
      "source": [
        "# Download Java Virtual Machine (JVM)\n",
        "!apt-get install openjdk-8-jdk-headless -qq > /dev/null"
      ],
      "metadata": {
        "id": "Ohsu1y1iI6lU"
      },
      "execution_count": 1,
      "outputs": []
    },
    {
      "cell_type": "code",
      "source": [
        "# install spark and its dependencies\n",
        "# NOTE: This and the following 3 cells need to be executed everytime you connect to Google Colab\n",
        "!wget -q https://archive.apache.org/dist/spark/spark-3.4.0/spark-3.4.0-bin-hadoop3.tgz\n",
        "!tar -xvzf spark-3.4.0-bin-hadoop3.tgz\n",
        "!pip install -q findspark\n",
        "!pip install pyspark"
      ],
      "metadata": {
        "id": "hi_l5RqYHoi8"
      },
      "execution_count": null,
      "outputs": []
    },
    {
      "cell_type": "code",
      "execution_count": 3,
      "metadata": {
        "id": "n3Ozg_z6AZ6A"
      },
      "outputs": [],
      "source": [
        "from google.colab import drive\n",
        "\n",
        "import numpy as np\n",
        "import pandas as pd"
      ]
    },
    {
      "cell_type": "code",
      "source": [
        "# setup required environment variables\n",
        "import os\n",
        "os.environ[\"JAVA_HOME\"] = \"/usr/lib/jvm/java-8-openjdk-amd64\"\n",
        "os.environ[\"SPARK_HOME\"] = \"/content/spark-3.4.0-bin-hadoop3\""
      ],
      "metadata": {
        "id": "R4KhGSyUHsVX"
      },
      "execution_count": 4,
      "outputs": []
    },
    {
      "cell_type": "code",
      "source": [
        "# import required modules\n",
        "import findspark\n",
        "\n",
        "findspark.init()\n",
        "findspark.find()\n",
        "\n",
        "from pyspark.sql import SparkSession"
      ],
      "metadata": {
        "id": "KI7Df7qtH0qo"
      },
      "execution_count": 5,
      "outputs": []
    },
    {
      "cell_type": "code",
      "source": [
        "# create a spark session\n",
        "spark_session = SparkSession.builder.master('local[*]').getOrCreate()"
      ],
      "metadata": {
        "id": "pKS3TD4ZH1ao"
      },
      "execution_count": 6,
      "outputs": []
    },
    {
      "cell_type": "markdown",
      "source": [
        "Mount to stats_bomb location where this will be stored"
      ],
      "metadata": {
        "id": "CgUtT10SB2SH"
      }
    },
    {
      "cell_type": "code",
      "source": [
        "drive.mount('/gdrive')\n",
        "%cd /gdrive/My\\ Drive/stats_bomb"
      ],
      "metadata": {
        "colab": {
          "base_uri": "https://localhost:8080/"
        },
        "id": "STSML5YWAvzT",
        "outputId": "505b47d3-a6e8-4998-a9d7-f0bc6331079c"
      },
      "execution_count": 12,
      "outputs": [
        {
          "output_type": "stream",
          "name": "stdout",
          "text": [
            "Drive already mounted at /gdrive; to attempt to forcibly remount, call drive.mount(\"/gdrive\", force_remount=True).\n",
            "/gdrive/My Drive/stats_bomb\n"
          ]
        }
      ]
    },
    {
      "cell_type": "markdown",
      "source": [
        "Create the first dataframe using the apache spark - competitions will be used to reference the rest of the data."
      ],
      "metadata": {
        "id": "bSjniz7-Bw3_"
      }
    },
    {
      "cell_type": "code",
      "source": [
        "# Create the competitions dataframe\n",
        "competitions = spark_session.read.json('../gdrive/MyDrive/stats_bomb/data/competitions.json', multiLine=True)"
      ],
      "metadata": {
        "id": "Cwt8Rb1SDJiN"
      },
      "execution_count": 19,
      "outputs": []
    },
    {
      "cell_type": "code",
      "source": [
        "competitions.select('competition_name').distinct().show()"
      ],
      "metadata": {
        "id": "5oN-Rsn6bR1w",
        "outputId": "18228ff4-697a-484e-f5ae-9661ce9eb011",
        "colab": {
          "base_uri": "https://localhost:8080/"
        }
      },
      "execution_count": 25,
      "outputs": [
        {
          "output_type": "stream",
          "name": "stdout",
          "text": [
            "+--------------------+\n",
            "|    competition_name|\n",
            "+--------------------+\n",
            "|             Serie A|\n",
            "|           UEFA Euro|\n",
            "|       1. Bundesliga|\n",
            "|      Premier League|\n",
            "|   UEFA Women's Euro|\n",
            "|  UEFA Europa League|\n",
            "|FA Women's Super ...|\n",
            "|   Women's World Cup|\n",
            "|North American Le...|\n",
            "|             La Liga|\n",
            "|    Liga Profesional|\n",
            "|                NWSL|\n",
            "| Indian Super league|\n",
            "|             Ligue 1|\n",
            "|  FIFA U20 World Cup|\n",
            "|    Champions League|\n",
            "|        Copa del Rey|\n",
            "|      FIFA World Cup|\n",
            "+--------------------+\n",
            "\n"
          ]
        }
      ]
    }
  ]
}